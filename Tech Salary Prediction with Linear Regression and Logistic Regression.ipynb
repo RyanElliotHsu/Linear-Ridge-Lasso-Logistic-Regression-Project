{
 "cells": [
  {
   "cell_type": "markdown",
   "id": "aee0e609",
   "metadata": {},
   "source": [
    "Import Libraries"
   ]
  },
  {
   "cell_type": "code",
   "execution_count": 32,
   "id": "81a1407b",
   "metadata": {},
   "outputs": [],
   "source": [
    "import pandas as pd\n",
    "import numpy as np\n",
    "import scipy\n",
    "\n",
    "# Plotting packages.\n",
    "import matplotlib\n",
    "import matplotlib.pyplot as plt\n",
    "from matplotlib import cm\n",
    "%matplotlib inline \n",
    "\n",
    "# Machine learning package.\n",
    "import sklearn"
   ]
  },
  {
   "cell_type": "markdown",
   "id": "a4ffdc9e",
   "metadata": {},
   "source": [
    "Import and clean up data"
   ]
  },
  {
   "cell_type": "code",
   "execution_count": 45,
   "id": "dd89480a",
   "metadata": {
    "scrolled": false
   },
   "outputs": [
    {
     "name": "stdout",
     "output_type": "stream",
     "text": [
      "(62642, 27)\n",
      "[210000 80000.0 30000.0 4.0 1.0 nan 0 0 1 0 0 0 0 0 0 0 nan 'PhD' 46\n",
      " 68.577 7 1097 2.84]\n",
      "[210000 145000.0 45000.0 5.0 5.0 'Male' 0 0 1 0 0 1 0 0 0 0 'Asian' 'PhD'\n",
      " 45 68.891 9 1166 3.04]\n",
      "Number of datasets after omitting datasets where race or education is NA:  21681\n",
      "[210000 145000.0 45000.0 5.0 5.0 'Male' 0 0 1 0 0 1 0 0 0 0 45 68.891 9\n",
      " 1166 3.04]\n"
     ]
    }
   ],
   "source": [
    "pd_data = pd.read_csv(\"techSalaries2017.csv\", quotechar='\"')\n",
    "data = pd_data.to_numpy()\n",
    "print(data.shape)\n",
    "\n",
    "#column 3 is total annual compensation (what we try to predict), 0-2 are neglected as they are not quantitative\n",
    "X,y = data[0:,4:], data[0:,3]\n",
    "num_rows, num_cols = X.shape\n",
    "#print(num_rows)\n",
    "#we delete the rows where education is NA\n",
    "education_na = []\n",
    "for i in range(num_rows):\n",
    "    if (type(X[i][17])==type(1.0)):\n",
    "        education_na.append(i)\n",
    "        \n",
    "X = np.delete(X,education_na,0)\n",
    "#num_rows, num_cols = X.shape\n",
    "#print(X.shape)\n",
    "print(X[0])\n",
    "\n",
    "#we delete the rows where race is NA\n",
    "num_rows, num_cols = X.shape\n",
    "race_na = []\n",
    "for i in range(num_rows):\n",
    "    if (type(X[i][16])==type(1.0)):\n",
    "        race_na.append(i)\n",
    "        \n",
    "X = np.delete(X,race_na,0)\n",
    "num_rows, num_cols = X.shape\n",
    "print(X[0])\n",
    "print(\"Number of datasets after omitting datasets where race or education is NA: \",num_rows)\n",
    "\n",
    "#delete columns \"education\" and \"race\" as they are represented by other columns numerically\n",
    "X = np.delete(X,[16,17],1)\n",
    "print(X[0])"
   ]
  },
  {
   "cell_type": "code",
   "execution_count": null,
   "id": "536f61e5",
   "metadata": {},
   "outputs": [],
   "source": [
    "#importing library for linear regression\n",
    "from sklearn.linear_model import LinearRegression\n",
    "\n",
    "# # Model: total rooms (predictor variable #2)\n",
    "model = LinearRegression()\n",
    "print(X[:,1:2].shape, y.shape)\n",
    "model = LinearRegression().fit(X[:,1:2],y)\n",
    "rSqr = model.score(X[:,1:2],y)\n",
    "print(rSqr)\n",
    "\n",
    "# Visualize: actual vs. predicted value (from model)\n",
    "yHat = model.predict(X[:,1:2])\n",
    "plt.plot(yHat,y,'o',markersize=.75) \n",
    "plt.xlabel('Prediction from model') \n",
    "plt.ylabel('Actual value')  \n",
    "plt.title('R^2 = {:.3f}'.format(rSqr))"
   ]
  },
  {
   "cell_type": "code",
   "execution_count": null,
   "id": "e847f129",
   "metadata": {},
   "outputs": [],
   "source": []
  }
 ],
 "metadata": {
  "kernelspec": {
   "display_name": "Python 3 (ipykernel)",
   "language": "python",
   "name": "python3"
  },
  "language_info": {
   "codemirror_mode": {
    "name": "ipython",
    "version": 3
   },
   "file_extension": ".py",
   "mimetype": "text/x-python",
   "name": "python",
   "nbconvert_exporter": "python",
   "pygments_lexer": "ipython3",
   "version": "3.9.7"
  }
 },
 "nbformat": 4,
 "nbformat_minor": 5
}
