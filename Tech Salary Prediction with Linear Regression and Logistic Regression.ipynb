{
 "cells": [
  {
   "cell_type": "markdown",
   "id": "aee0e609",
   "metadata": {},
   "source": [
    "Import Libraries"
   ]
  },
  {
   "cell_type": "code",
   "execution_count": 70,
   "id": "81a1407b",
   "metadata": {},
   "outputs": [],
   "source": [
    "import pandas as pd\n",
    "import numpy as np\n",
    "import scipy\n",
    "\n",
    "# Plotting packages.\n",
    "import matplotlib\n",
    "import matplotlib.pyplot as plt\n",
    "from matplotlib import cm\n",
    "%matplotlib inline \n",
    "\n",
    "# Machine learning package.\n",
    "import sklearn"
   ]
  },
  {
   "cell_type": "markdown",
   "id": "a4ffdc9e",
   "metadata": {},
   "source": [
    "Import and clean up data"
   ]
  },
  {
   "cell_type": "code",
   "execution_count": 76,
   "id": "dd89480a",
   "metadata": {
    "scrolled": false
   },
   "outputs": [
    {
     "name": "stdout",
     "output_type": "stream",
     "text": [
      "(62642, 27)\n",
      "Number of datasets after omitting datasets where education is NA:  30370\n",
      "Number of datasets after omitting datasets where race is NA:  21681\n",
      "Example row:  [5.0 5.0 0 0 0 1 0 1 0 0 0 45 68.891 9 1166 3.04]\n",
      "Number of datasets after omitting datasets where gender is NA:  21485\n"
     ]
    }
   ],
   "source": [
    "#function to convert male/female/NA into 0/1/2\n",
    "def gender_to_number(gender):\n",
    "    if gender==\"Male\":\n",
    "        return 0\n",
    "    if gender==\"Female\":\n",
    "        return 1\n",
    "    else:\n",
    "        return 2\n",
    "    \n",
    "pd_data = pd.read_csv(\"techSalaries2017.csv\", quotechar='\"', converters={\"gender\": gender_to_number})\n",
    "data = pd_data.to_numpy()\n",
    "print(data.shape)\n",
    "\n",
    "#column 3 is total annual compensation (what we try to predict), 0-2 are neglected as they are not quantitative\n",
    "X,y = data[0:,4:], data[0:,3]\n",
    "num_rows, num_cols = X.shape\n",
    "#print(num_rows)\n",
    "#we delete the rows where education is NA\n",
    "education_na = []\n",
    "for i in range(num_rows):\n",
    "    if (type(X[i][17])==type(1.0)):\n",
    "        education_na.append(i)\n",
    "        \n",
    "X = np.delete(X,education_na,0)\n",
    "#we need to delete the corresponding data from y as well\n",
    "y = np.delete(y,education_na,0)\n",
    "num_rows, num_cols = X.shape\n",
    "print(\"Number of datasets after omitting datasets where education is NA: \",num_rows)\n",
    "\n",
    "#we delete the rows where race is NA\n",
    "num_rows, num_cols = X.shape\n",
    "race_na = []\n",
    "for i in range(num_rows):\n",
    "    if (type(X[i][16])==type(1.0)):\n",
    "        race_na.append(i)\n",
    "        \n",
    "X = np.delete(X,race_na,0)\n",
    "y = np.delete(y,race_na,0)\n",
    "num_rows, num_cols = X.shape\n",
    "print(\"Number of datasets after omitting datasets where race is NA: \",num_rows)\n",
    "\n",
    "#delete columns \"Education\" and \"Race\" as they are represented by other columns numerically\n",
    "X = np.delete(X,[16,17],1)\n",
    "\n",
    "#delete column \"Highschool\" so the model will not overdetermine over education level\n",
    "#also delete column \"Race_Two_Or_More\" along the same logic as above\n",
    "X = np.delete(X,[9,13],1)\n",
    "\n",
    "#delete columns \"basesalary\", \"stockgrantvalue\", and \"bonus\", as the sum of these is the value we are trying to\n",
    "#predict, hence making the model self-fulfilling and therefore not meaningful\n",
    "X = np.delete(X,[0,1,2],1)\n",
    "print(\"Example row: \",X[0])\n",
    "\n",
    "#delete datasets where gender is NA\n",
    "num_rows, num_cols = X.shape\n",
    "gender_na = []\n",
    "for i in range(num_rows):\n",
    "    if (X[i][2]==2):\n",
    "        gender_na.append(i)\n",
    "        \n",
    "X = np.delete(X,gender_na,0)\n",
    "y = np.delete(y,gender_na,0)\n",
    "num_rows, num_cols = X.shape\n",
    "print(\"Number of datasets after omitting datasets where gender is NA: \",num_rows)"
   ]
  },
  {
   "cell_type": "markdown",
   "id": "f3df79a7",
   "metadata": {},
   "source": [
    "Prediction with OLS linear regression and R-Squared for predictors"
   ]
  },
  {
   "cell_type": "code",
   "execution_count": 80,
   "id": "536f61e5",
   "metadata": {},
   "outputs": [
    {
     "name": "stdout",
     "output_type": "stream",
     "text": [
      "R-Squared for years of experience: 0.16086386858353963\n",
      "R-Squared for years at company: 0.028069721404116454\n",
      "R-Squared for gender: 0.0015087176698689309\n",
      "R-Squared for education: 0.03663002928841441\n",
      "R-Squared for race: 0.0027676922897398315\n",
      "R-Squared for age: 0.06421789533005462\n",
      "R-Squared for height: 0.0001289359645861854\n",
      "R-Squared for zodiac: 6.7574276396698e-05\n",
      "R-Squared for SAT: 0.11064003940759848\n",
      "R-Squared for GPA: 0.09340575536616413\n",
      "R-Squared for all variables: 0.26509801851946435\n"
     ]
    },
    {
     "data": {
      "text/plain": [
       "Text(0.5, 1.0, 'R^2 = 0.265')"
      ]
     },
     "execution_count": 80,
     "metadata": {},
     "output_type": "execute_result"
    },
    {
     "data": {
      "image/png": "[encoded data removed]",
      "text/plain": [
       "<Figure size 432x288 with 1 Axes>"
      ]
     },
     "metadata": {
      "needs_background": "light"
     },
     "output_type": "display_data"
    }
   ],
   "source": [
    "#importing library for linear regression\n",
    "from sklearn.linear_model import LinearRegression\n",
    "\n",
    "# # Model 1: years of experience\n",
    "model = LinearRegression()\n",
    "model = LinearRegression().fit(X[:,0:1],y)\n",
    "rSqr = model.score(X[:,0:1],y)\n",
    "print(\"R-Squared for years of experience:\",rSqr)\n",
    "\n",
    "# # Model 2: years at company\n",
    "model = LinearRegression()\n",
    "model = LinearRegression().fit(X[:,1:2],y)\n",
    "rSqr = model.score(X[:,1:2],y)\n",
    "print(\"R-Squared for years at company:\",rSqr)\n",
    "\n",
    "# # Model 3: gender\n",
    "model = LinearRegression()\n",
    "model = LinearRegression().fit(X[:,2:3],y)\n",
    "rSqr = model.score(X[:,2:3],y)\n",
    "print(\"R-Squared for gender:\",rSqr)\n",
    "\n",
    "# # Model 4: education\n",
    "model = LinearRegression()\n",
    "model = LinearRegression().fit(X[:,3:7],y)\n",
    "rSqr = model.score(X[:,3:7],y)\n",
    "print(\"R-Squared for education:\",rSqr)\n",
    "\n",
    "# # Model 5: race\n",
    "model = LinearRegression()\n",
    "model = LinearRegression().fit(X[:,7:11],y)\n",
    "rSqr = model.score(X[:,7:11],y)\n",
    "print(\"R-Squared for race:\",rSqr)\n",
    "\n",
    "# # Model 6: age\n",
    "model = LinearRegression()\n",
    "model = LinearRegression().fit(X[:,11:12],y)\n",
    "rSqr = model.score(X[:,11:12],y)\n",
    "print(\"R-Squared for age:\",rSqr)\n",
    "\n",
    "# # Model 7: height\n",
    "model = LinearRegression()\n",
    "model = LinearRegression().fit(X[:,12:13],y)\n",
    "rSqr = model.score(X[:,12:13],y)\n",
    "print(\"R-Squared for height:\",rSqr)\n",
    "\n",
    "# # Model 8: zodiac\n",
    "model = LinearRegression()\n",
    "model = LinearRegression().fit(X[:,13:14],y)\n",
    "rSqr = model.score(X[:,13:14],y)\n",
    "print(\"R-Squared for zodiac:\",rSqr)\n",
    "\n",
    "# # Model 9: SAT\n",
    "model = LinearRegression()\n",
    "model = LinearRegression().fit(X[:,14:15],y)\n",
    "rSqr = model.score(X[:,14:15],y)\n",
    "print(\"R-Squared for SAT:\",rSqr)\n",
    "\n",
    "# # Model 10: GPA\n",
    "model = LinearRegression()\n",
    "model = LinearRegression().fit(X[:,15:16],y)\n",
    "rSqr = model.score(X[:,15:16],y)\n",
    "print(\"R-Squared for GPA:\",rSqr)\n",
    "\n",
    "# # Model 11: All variables considered\n",
    "model = LinearRegression()\n",
    "model = LinearRegression().fit(X[:,0:16],y)\n",
    "rSqr = model.score(X[:,0:16],y)\n",
    "print(\"R-Squared for all variables:\",rSqr)\n",
    "\n",
    "\n",
    "#Visualize: actual vs. predicted value (from model)\n",
    "yHat = model.predict(X[:,0:16])\n",
    "plt.plot(yHat,y,'o',markersize=.75) \n",
    "plt.xlabel('Prediction from model') \n",
    "plt.ylabel('Actual value')  \n",
    "plt.title('R^2 = {:.3f}'.format(rSqr))"
   ]
  },
  {
   "cell_type": "code",
   "execution_count": null,
   "id": "e847f129",
   "metadata": {},
   "outputs": [],
   "source": []
  }
 ],
 "metadata": {
  "kernelspec": {
   "display_name": "Python 3 (ipykernel)",
   "language": "python",
   "name": "python3"
  },
  "language_info": {
   "codemirror_mode": {
    "name": "ipython",
    "version": 3
   },
   "file_extension": ".py",
   "mimetype": "text/x-python",
   "name": "python",
   "nbconvert_exporter": "python",
   "pygments_lexer": "ipython3",
   "version": "3.9.7"
  }
 },
 "nbformat": 4,
 "nbformat_minor": 5
}
